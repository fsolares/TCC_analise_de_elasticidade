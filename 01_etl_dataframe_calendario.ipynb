{
 "cells": [
  {
   "cell_type": "markdown",
   "metadata": {},
   "source": [
    "#### Imports"
   ]
  },
  {
   "cell_type": "code",
   "execution_count": 1,
   "metadata": {},
   "outputs": [],
   "source": [
    "import locale\n",
    "import pandas as pd\n",
    "import numpy as np\n",
    "import requests\n",
    "import string\n",
    "from bs4 import BeautifulSoup as bs\n",
    "from datetime import datetime\n",
    "from random import choices, sample"
   ]
  },
  {
   "cell_type": "markdown",
   "metadata": {},
   "source": [
    "#### Utilizando beatifulSoup para extrair tabela de calendário"
   ]
  },
  {
   "cell_type": "code",
   "execution_count": 2,
   "metadata": {},
   "outputs": [],
   "source": [
    "data = []\n",
    "\n",
    "for year in range(2020, 2023):\n",
    "    page = (\n",
    "        requests\n",
    "        .get(f'https://www.timeanddate.com/holidays/china/{year}?hol=4194617')\n",
    "    )\n",
    "\n",
    "    soup = bs(page.text, 'html.parser')\n",
    "\n",
    "    table = soup.find('table')\n",
    "    table_body = table.find('tbody')\n",
    "    rows = table_body.find_all('tr')\n",
    "    for row in rows:\n",
    "        cols = row.find_all(['td', 'th'])\n",
    "        cols = (\n",
    "            [\n",
    "                f'{el.text.strip()} de {year}'\n",
    "                if len(el.text.strip().split('de')) > 1\n",
    "                else el.text.strip()\n",
    "                for el in cols\n",
    "            ]\n",
    "        )\n",
    "        data.append([el for el in cols if el])\n",
    "\n",
    "calendario_china = (\n",
    "    pd.DataFrame(\n",
    "        data, columns=[\n",
    "            'DATA', 'DIA_DA_SEMANA', 'FERIADO', 'TIPO_FERIADO'\n",
    "        ]\n",
    "    )\n",
    ")\n"
   ]
  },
  {
   "cell_type": "markdown",
   "metadata": {},
   "source": [
    "#### Organizando o dataset do calendário\n"
   ]
  },
  {
   "cell_type": "code",
   "execution_count": 3,
   "metadata": {},
   "outputs": [
    {
     "data": {
      "text/html": [
       "<div>\n",
       "<style scoped>\n",
       "    .dataframe tbody tr th:only-of-type {\n",
       "        vertical-align: middle;\n",
       "    }\n",
       "\n",
       "    .dataframe tbody tr th {\n",
       "        vertical-align: top;\n",
       "    }\n",
       "\n",
       "    .dataframe thead th {\n",
       "        text-align: right;\n",
       "    }\n",
       "</style>\n",
       "<table border=\"1\" class=\"dataframe\">\n",
       "  <thead>\n",
       "    <tr style=\"text-align: right;\">\n",
       "      <th></th>\n",
       "      <th>DATA</th>\n",
       "      <th>DIA_DA_SEMANA</th>\n",
       "      <th>FERIADO</th>\n",
       "      <th>TIPO_FERIADO</th>\n",
       "    </tr>\n",
       "  </thead>\n",
       "  <tbody>\n",
       "    <tr>\n",
       "      <th>0</th>\n",
       "      <td>None</td>\n",
       "      <td>None</td>\n",
       "      <td>None</td>\n",
       "      <td>None</td>\n",
       "    </tr>\n",
       "    <tr>\n",
       "      <th>1</th>\n",
       "      <td>1 de Jan de 2020</td>\n",
       "      <td>Quarta-feira</td>\n",
       "      <td>New Year's Day</td>\n",
       "      <td>National holiday</td>\n",
       "    </tr>\n",
       "    <tr>\n",
       "      <th>2</th>\n",
       "      <td>19 de Jan de 2020</td>\n",
       "      <td>Domingo</td>\n",
       "      <td>Special Working Day</td>\n",
       "      <td>Working day on weekend</td>\n",
       "    </tr>\n",
       "    <tr>\n",
       "      <th>3</th>\n",
       "      <td>24 de Jan de 2020</td>\n",
       "      <td>Sexta-feira</td>\n",
       "      <td>Spring Festival Eve</td>\n",
       "      <td>National holiday</td>\n",
       "    </tr>\n",
       "    <tr>\n",
       "      <th>4</th>\n",
       "      <td>25 de Jan de 2020</td>\n",
       "      <td>Sábado</td>\n",
       "      <td>Lunar New Year</td>\n",
       "      <td>National holiday</td>\n",
       "    </tr>\n",
       "  </tbody>\n",
       "</table>\n",
       "</div>"
      ],
      "text/plain": [
       "                DATA DIA_DA_SEMANA              FERIADO  \\\n",
       "0               None          None                 None   \n",
       "1   1 de Jan de 2020  Quarta-feira       New Year's Day   \n",
       "2  19 de Jan de 2020       Domingo  Special Working Day   \n",
       "3  24 de Jan de 2020   Sexta-feira  Spring Festival Eve   \n",
       "4  25 de Jan de 2020        Sábado       Lunar New Year   \n",
       "\n",
       "             TIPO_FERIADO  \n",
       "0                    None  \n",
       "1        National holiday  \n",
       "2  Working day on weekend  \n",
       "3        National holiday  \n",
       "4        National holiday  "
      ]
     },
     "execution_count": 3,
     "metadata": {},
     "output_type": "execute_result"
    }
   ],
   "source": [
    "# Mostrando as 5 primeiras linhas do dataframe\n",
    "calendario_china.head()\n"
   ]
  },
  {
   "cell_type": "markdown",
   "metadata": {},
   "source": [
    "Vamos checar os valores missing neste dataframe\n"
   ]
  },
  {
   "cell_type": "code",
   "execution_count": 4,
   "metadata": {},
   "outputs": [],
   "source": [
    "\n",
    "# Observando a quantidade de valores None por coluna\n",
    "calendario_china.isna().sum()\n",
    "\n",
    "# Como a data é a coluna mais importante deste dataframe, vamos dropar todas as linhas onde a data seja None.\n",
    "(\n",
    "    calendario_china\n",
    "        .dropna(\n",
    "            subset = ['DATA']\n",
    "            , inplace = True\n",
    "        )\n",
    ")\n",
    "\n",
    "\n",
    "# Vamos remover os eventos do tipo Working day on weekend. \n",
    "# São dias especiais de trabalho onde os chineses precisam ir mesmo sendo finais de semana. \n",
    "# Como este calendário traz todos os feriados e eventos importantes, situações como esta acabam ocorrendo.\n",
    "# Removendo as linhas onde o tipo é Working day on weekend.\n",
    "(\n",
    "    calendario_china\n",
    "        .drop(\n",
    "            calendario_china[\n",
    "                calendario_china['TIPO_FERIADO'] == 'Working day on weekend'\n",
    "            ].index\n",
    "            , inplace = True\n",
    "        )\n",
    ")"
   ]
  },
  {
   "cell_type": "markdown",
   "metadata": {},
   "source": [
    "Após removermos todas as linhas com dados datas faltantes e os eventos do tipo Working day on weekend , mudaremos formato de apresentação da coluna calendario_china['DATA']"
   ]
  },
  {
   "cell_type": "code",
   "execution_count": 5,
   "metadata": {},
   "outputs": [],
   "source": [
    "\n",
    "# Como o formato da data esta especificamente no formato pt_BR, foi necessário mudar o padrão POSIX do python para facilitar a atividade de conversão.\n",
    "\n",
    "locale.setlocale(locale.LC_ALL, \"pt_BR.UTF-8\")\n",
    "\n",
    "# Modificando o formato das datas\n",
    "calendario_china['DATA'] = (\n",
    "    pd.to_datetime(\n",
    "        calendario_china['DATA']\n",
    "            .apply(\n",
    "                lambda x: \n",
    "                datetime.strptime(x, '%d de %b de %Y').strftime('%d/%m/%Y')\n",
    "            )\n",
    "        , dayfirst=True\n",
    "    )\n",
    ")\n",
    "\n",
    "# Transformando todos os feriados que possuem golden week no nome em apenas golden week.\n",
    "calendario_china['FERIADO'] = (\n",
    "    np.where(\n",
    "        calendario_china['FERIADO'].str.contains('Golden Week')\n",
    "\n",
    "        , 'Golden Week'\n",
    "        , calendario_china['FERIADO']\n",
    "    )\n",
    ")"
   ]
  },
  {
   "cell_type": "code",
   "execution_count": 6,
   "metadata": {},
   "outputs": [],
   "source": [
    "# Criando uma lista de letras maiúsculas\n",
    "lista_letras = list(string.ascii_uppercase)\n",
    "\n",
    "# Criando uma lista de feriados\n",
    "feriados = list(calendario_china['FERIADO'].unique())\n",
    "\n",
    "# Fazendo o de-para da lista de feriado(com a ordem modificada randomicamente devido a função sample)\n",
    "# utilizando uma combinação de 2 letras maiúsculas (escolhidas randomicamente devido a função choice)\n",
    "for feriado in sample(feriados, len(feriados)):\n",
    "    calendario_china['FERIADO'] = np.where(\n",
    "        (calendario_china['FERIADO'] == f'{feriado}')\n",
    "        , choices(lista_letras)[0] + choices(lista_letras)[0]\n",
    "        , calendario_china['FERIADO']\n",
    "    )\n",
    "    \n",
    "# Escolhendo as colunas que precisaremos para o futuro da análise\n",
    "calendario_china = calendario_china[['DATA','FERIADO']]\n",
    "\n",
    "# Renomeando as colunas para padronizarmos a apresentação dos dados para\n",
    "calendario_china.columns = ['DATE','DS_HOLIDAY_NAME']"
   ]
  },
  {
   "cell_type": "markdown",
   "metadata": {},
   "source": [
    "### Exportando o dataframe do calendário devidamente organizado para ser utilizado no próximo notebook"
   ]
  },
  {
   "cell_type": "code",
   "execution_count": 7,
   "metadata": {},
   "outputs": [],
   "source": [
    "calendario_china.to_csv('./dataset/calendario_china.csv',header=True, sep=\";\", index=False, encoding=\"utf-8\")"
   ]
  }
 ],
 "metadata": {
  "kernelspec": {
   "display_name": "Python 3.9.12 ('base')",
   "language": "python",
   "name": "python3"
  },
  "language_info": {
   "codemirror_mode": {
    "name": "ipython",
    "version": 3
   },
   "file_extension": ".py",
   "mimetype": "text/x-python",
   "name": "python",
   "nbconvert_exporter": "python",
   "pygments_lexer": "ipython3",
   "version": "3.9.12"
  },
  "vscode": {
   "interpreter": {
    "hash": "9eb1837acb17d64245134e07af720f38a6c60323dba02b7611bd51e9759924af"
   }
  }
 },
 "nbformat": 4,
 "nbformat_minor": 4
}
